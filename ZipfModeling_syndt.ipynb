{
 "cells": [
  {
   "cell_type": "code",
   "execution_count": 1,
   "metadata": {},
   "outputs": [],
   "source": [
    "import pandas as pd\n",
    "import numpy as np\n",
    "from scipy.stats import norm\n",
    "import random\n",
    "import statistics as st\n",
    "from matplotlib import pyplot as plt\n",
    "import seaborn as sns\n",
    "import scipy as sp\n",
    "from scipy import stats"
   ]
  },
  {
   "cell_type": "code",
   "execution_count": 2,
   "metadata": {},
   "outputs": [],
   "source": [
    "novice_token =  pd.read_csv(r'C:\\xxx\\novice_syn_data.csv')"
   ]
  },
  {
   "cell_type": "code",
   "execution_count": 3,
   "metadata": {},
   "outputs": [],
   "source": [
    "expert_token =  pd.read_csv(r'C:\\xxxx\\expert_syn_data.csv')"
   ]
  },
  {
   "cell_type": "code",
   "execution_count": 4,
   "metadata": {},
   "outputs": [],
   "source": [
    "def logML(a):  \n",
    "    pro = -a*np.log(rank) - np.log(np.sum(1/rank**a))\n",
    "    \n",
    "\n",
    "    # Multiply the vector by frequencies\n",
    "    Lvector =pro * frequency\n",
    "\n",
    "    # LL is the sum\n",
    "    L = Lvector.sum()\n",
    "\n",
    "    # We want to maximize LogLikelihood or minimize (-1)*LogLikelihood\n",
    "    return(-L)"
   ]
  },
  {
   "cell_type": "code",
   "execution_count": 5,
   "metadata": {},
   "outputs": [],
   "source": [
    "def zipflaw(dt):\n",
    "    zipf_dt = pd.DataFrame(columns=['Frequency'])\n",
    "    nov_freq = dt.drop(['Author'])\n",
    "    temp2=nov_freq[nov_freq!=0].sort_values(ascending=False).reset_index()\n",
    "    frequency = temp2[temp2.columns[1]]\n",
    "    probability = frequency/np.sum(frequency)\n",
    "    zipf_dt['Frequency'] = frequency\n",
    "    zipf_dt['Probability'] = probability\n",
    "    rank=np.array(range(1,len(temp2)+1))\n",
    "    zipf_dt['rank'] = rank\n",
    "    s_best = sp.optimize.minimize(logML, [1])\n",
    "    alpha=s_best.x\n",
    "    zipf_dt['alpha'] = alpha[0]\n",
    "    zipf_dt['zipflaw']=(rank**(-alpha))/np.sum(1/rank**alpha)\n",
    "    zipf_dt['log_pro'] = np.log(probability.astype(np.float64))\n",
    "    zipf_dt['log_rank'] = np.log(rank)\n",
    "    zipf_dt['log_zipflaw'] = -alpha*np.log(rank) - np.log(np.sum(1/rank**alpha))\n",
    "    return zipf_dt"
   ]
  },
  {
   "cell_type": "code",
   "execution_count": 6,
   "metadata": {},
   "outputs": [],
   "source": [
    "expert_smp1 = pd.DataFrame(columns=['best_a','sample_size'])"
   ]
  },
  {
   "cell_type": "code",
   "execution_count": 7,
   "metadata": {},
   "outputs": [],
   "source": [
    "for i in range (1,600):\n",
    "    dev_name= \"exp_dev\"+str(i)\n",
    "    expert = expert_token[expert_token['Author']==dev_name]\n",
    "    expert_dt = exp_smp.groupby('Author').sum().reset_index()\n",
    "    #dev=expert_dt.iloc[i]\n",
    "    dev = expert_dt.drop(['Author'],axis=1)\n",
    "    temp = dev.transpose()\n",
    "    exp_freq = temp[0]\n",
    "    temp2=exp_freq[exp_freq!=0].sort_values(ascending=False).reset_index()\n",
    "    frequency = temp2[temp2.columns[1]]\n",
    "    rank=np.array(range(1,len(temp2)+1))\n",
    "    s_best = sp.optimize.minimize(logML, [1])\n",
    "    alpha=s_best.x\n",
    "    expert_smp1=expert_smp1.append({'best_a':alpha[0],'sample_size':np.sum(exp_freq)},ignore_index=True)"
   ]
  },
  {
   "cell_type": "code",
   "execution_count": 8,
   "metadata": {},
   "outputs": [],
   "source": [
    "novice_smp1 = pd.DataFrame(columns=['best_a','sample_size'])"
   ]
  },
  {
   "cell_type": "code",
   "execution_count": 9,
   "metadata": {},
   "outputs": [],
   "source": [
    "for i in range (1,600):\n",
    "    dev_name= \"N_dev\"+str(i)\n",
    "    novice = novice_token[novice_token['Author']==dev_name]\n",
    "    novice_dt = nov_smp.groupby('Author').sum().reset_index()\n",
    "    #dev=expert_dt.iloc[i]\n",
    "    dev = novice_dt.drop(['Author'],axis=1)\n",
    "    temp = dev.transpose()\n",
    "    exp_freq = temp[0]\n",
    "    temp2=exp_freq[exp_freq!=0].sort_values(ascending=False).reset_index()\n",
    "    frequency = temp2[temp2.columns[1]]\n",
    "    rank=np.array(range(1,len(temp2)+1))\n",
    "    s_best = sp.optimize.minimize(logML, [1])\n",
    "    alpha=s_best.x\n",
    "    novice_smp1=novice_smp1.append({'best_a':alpha[0],'sample_size':np.sum(exp_freq)},ignore_index=True)"
   ]
  },
  {
   "cell_type": "code",
   "execution_count": 10,
   "metadata": {},
   "outputs": [],
   "source": [
    "parm_exp=expert_smp1['best_a'].astype(float)\n",
    "sort_exp= sorted(np.array(parm_exp))\n",
    "exp_par_a = norm.pdf(sort_exp, np.mean(sort_exp), np.std(sort_exp))"
   ]
  },
  {
   "cell_type": "code",
   "execution_count": 11,
   "metadata": {},
   "outputs": [],
   "source": [
    "parm_nov=novice_smp1['best_a'].astype(float)\n",
    "sort_nov= sorted(np.array(parm_nov))\n",
    "nov_par_a = norm.pdf(sort_nov, np.mean(sort_nov), np.std(sort_nov))"
   ]
  },
  {
   "cell_type": "code",
   "execution_count": 12,
   "metadata": {},
   "outputs": [],
   "source": [
    "m1=[np.mean(parm_exp),np.mean(parm_nov)]"
   ]
  },
  {
   "cell_type": "code",
   "execution_count": 13,
   "metadata": {},
   "outputs": [],
   "source": [
    "st1=[np.std(parm_exp),np.std(parm_nov)]"
   ]
  },
  {
   "cell_type": "code",
   "execution_count": 14,
   "metadata": {},
   "outputs": [
    {
     "name": "stderr",
     "output_type": "stream",
     "text": [
      "C:\\Users\\morad\\Anaconda3\\lib\\site-packages\\ipykernel_launcher.py:7: MatplotlibDeprecationWarning: \n",
      "The 'normed' kwarg was deprecated in Matplotlib 2.1 and will be removed in 3.1. Use 'density' instead.\n",
      "  import sys\n",
      "C:\\Users\\morad\\Anaconda3\\lib\\site-packages\\ipykernel_launcher.py:9: MatplotlibDeprecationWarning: \n",
      "The 'normed' kwarg was deprecated in Matplotlib 2.1 and will be removed in 3.1. Use 'density' instead.\n",
      "  if __name__ == '__main__':\n"
     ]
    },
    {
     "data": {
      "text/plain": [
       "Text(0.95, 0.1, 'μ=0.966')"
      ]
     },
     "execution_count": 14,
     "metadata": {},
     "output_type": "execute_result"
    },
    {
     "data": {
      "image/png": "[encoded data removed]",
      "text/plain": [
       "<Figure size 432x288 with 1 Axes>"
      ]
     },
     "metadata": {
      "needs_background": "light"
     },
     "output_type": "display_data"
    }
   ],
   "source": [
    "fig, ax = plt.subplots(figsize=(6,4))\n",
    "#plt.ylabel(\"Probability\",fontsize=10)\n",
    "#plt.legend(('Probability Distribution','Original'),loc='upper right',\n",
    "           #ncol=3,\n",
    "           #fontsize=10)\n",
    "#plt.plot(sort_nov,nov_par_a,color='red')\n",
    "plt.hist(sort_nov,normed=True,color='lightseagreen')\n",
    "#plt.plot(sort_exp,exp_par_a,color='blue')\n",
    "plt.hist(sort_exp,normed=True, color='salmon')\n",
    "plt.xlabel(\"alpha\",fontsize=10)\n",
    "\n",
    "#plt.ylim(0,30)\n",
    "#plt.xlim(0.67,1.05)\n",
    "\n",
    "#plt.yticks(np.arange(-3, 3, 0.25))\n",
    "#plt.xticks(np.arange(0.67, 1.05, 0.03))\n",
    "\n",
    "plt.legend(('Novices','Experts'),loc='upper left',\n",
    "           ncol=1,\n",
    "           fontsize=8)\n",
    "plt.xlabel(\"alpha\",fontsize=10)\n",
    "#plt.xticks(fontsize=15)\n",
    "#plt.yticks(fontsize=15)\n",
    "#plt.savefig('alpha_dist_syn.png',dpi=700)\n",
    "plt.ylabel(\"Frequency\",fontsize=10)\n",
    "plt.axvline(x=0.746,linestyle='--',color='black')\n",
    "plt.text(0.68,0.1, 'μ={:.3f}'.format(0.746), va='center', ha=\"left\", bbox=dict(facecolor=\"w\",alpha=0.5),\n",
    "        transform=ax.get_xaxis_transform())\n",
    "plt.axvline(x=0.966,linestyle='--',color='black')\n",
    "plt.text(0.95,0.1, 'μ={:.3f}'.format(0.966), va='center', ha=\"right\", bbox=dict(facecolor=\"w\",alpha=0.5),\n",
    "        transform=ax.get_xaxis_transform())\n",
    "#plt.savefig('alpha_dist_syn.png',dpi=700)\n",
    "#plt.title('The distribution of alpha parameter in \"Expert\"and \"Novice\" groups', fontsize=12)\n",
    "#plt.title('Expert Developer', fontsize=10)"
   ]
  },
  {
   "cell_type": "code",
   "execution_count": null,
   "metadata": {},
   "outputs": [],
   "source": []
  }
 ],
 "metadata": {
  "kernelspec": {
   "display_name": "Python 3",
   "language": "python",
   "name": "python3"
  },
  "language_info": {
   "codemirror_mode": {
    "name": "ipython",
    "version": 3
   },
   "file_extension": ".py",
   "mimetype": "text/x-python",
   "name": "python",
   "nbconvert_exporter": "python",
   "pygments_lexer": "ipython3",
   "version": "3.7.4"
  }
 },
 "nbformat": 4,
 "nbformat_minor": 2
}
